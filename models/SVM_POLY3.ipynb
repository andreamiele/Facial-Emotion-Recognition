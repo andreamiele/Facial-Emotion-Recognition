{
 "cells": [
  {
   "cell_type": "markdown",
   "id": "226f4346",
   "metadata": {},
   "source": [
    "# SVM Polynomial"
   ]
  },
  {
   "cell_type": "markdown",
   "id": "ebee8696",
   "metadata": {},
   "source": [
    "More information [here](https://scikit-learn.org/stable/auto_examples/kernel_approximation/plot_scalable_poly_kernels.html#sphx-glr-auto-examples-kernel-approximation-plot-scalable-poly-kernels-py)"
   ]
  },
  {
   "cell_type": "code",
   "execution_count": 1,
   "id": "5c62a334",
   "metadata": {},
   "outputs": [],
   "source": [
    "import time\n",
    "import pandas as pd\n",
    "import numpy as np\n",
    "from sklearn.svm import SVC\n",
    "from sklearn.metrics import classification_report\n",
    "from sklearn.model_selection import train_test_split\n",
    "\n",
    "#read data\n",
    "df = pd.read_csv('./fer2013.csv')\n",
    "\n",
    "#usage is not needed, so it is droped\n",
    "df = df.drop(columns=['Usage'])\n",
    "\n",
    "#obtain values we wis to predict as a vector\n",
    "y = df['emotion'].values\n",
    "\n",
    "pixels = df['pixels'].values\n",
    "\n",
    "x = []\n",
    "\n",
    "for i in pixels:\n",
    "    str_list = i.split()\n",
    "    x.append(np.array(list(map(int, str_list)))/255)\n",
    "\n",
    "trainX, testX, trainY, testY = train_test_split(np.array(x), np.array(y), test_size = 0.3)"
   ]
  },
  {
   "cell_type": "markdown",
   "id": "3f9f7aa3",
   "metadata": {},
   "source": [
    "## Performance"
   ]
  },
  {
   "cell_type": "code",
   "execution_count": 2,
   "id": "5231a155",
   "metadata": {},
   "outputs": [
    {
     "name": "stdout",
     "output_type": "stream",
     "text": [
      "2048.1465044021606\n",
      "              precision    recall  f1-score   support\n",
      "\n",
      "           0       0.32      0.30      0.31      1481\n",
      "           1       0.32      0.40      0.35       174\n",
      "           2       0.31      0.29      0.30      1463\n",
      "           3       0.54      0.62      0.57      2670\n",
      "           4       0.34      0.35      0.34      1818\n",
      "           5       0.60      0.56      0.58      1216\n",
      "           6       0.40      0.36      0.38      1945\n",
      "\n",
      "    accuracy                           0.43     10767\n",
      "   macro avg       0.40      0.41      0.41     10767\n",
      "weighted avg       0.42      0.43      0.42     10767\n",
      "\n"
     ]
    }
   ],
   "source": [
    "model = SVC(kernel='poly')\n",
    "startTrain = time.time()\n",
    "model.fit(trainX,trainY)\n",
    "endTrain = time.time()\n",
    "print(endTrain - startTrain)\n",
    "\n",
    "pred = model.predict(testX)\n",
    "print(classification_report(testY, pred))"
   ]
  },
  {
   "cell_type": "code",
   "execution_count": 3,
   "id": "aacc4ed7",
   "metadata": {},
   "outputs": [],
   "source": [
    "import pickle\n",
    "\n",
    "# Save the model as a pickle in a file\n",
    "pickle.dump(model, open('svm_poly3.pkl', 'wb'))"
   ]
  }
 ],
 "metadata": {
  "kernelspec": {
   "display_name": "Python 3",
   "language": "python",
   "name": "python3"
  },
  "language_info": {
   "codemirror_mode": {
    "name": "ipython",
    "version": 3
   },
   "file_extension": ".py",
   "mimetype": "text/x-python",
   "name": "python",
   "nbconvert_exporter": "python",
   "pygments_lexer": "ipython3",
   "version": "3.8.8"
  }
 },
 "nbformat": 4,
 "nbformat_minor": 5
}
