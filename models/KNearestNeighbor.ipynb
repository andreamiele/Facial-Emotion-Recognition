{
 "cells": [
  {
   "cell_type": "markdown",
   "id": "4479d069",
   "metadata": {},
   "source": [
    "# KNN"
   ]
  },
  {
   "cell_type": "markdown",
   "id": "ebee8696",
   "metadata": {},
   "source": [
    "More information [here](https://scikit-learn.org/stable/modules/generated/sklearn.neighbors.KNeighborsClassifier.html)"
   ]
  },
  {
   "cell_type": "markdown",
   "id": "1c144d29",
   "metadata": {},
   "source": [
    "## Imports"
   ]
  },
  {
   "cell_type": "code",
   "execution_count": 2,
   "id": "59305c66",
   "metadata": {},
   "outputs": [
    {
     "data": {
      "text/html": [
       "<div>\n",
       "<style scoped>\n",
       "    .dataframe tbody tr th:only-of-type {\n",
       "        vertical-align: middle;\n",
       "    }\n",
       "\n",
       "    .dataframe tbody tr th {\n",
       "        vertical-align: top;\n",
       "    }\n",
       "\n",
       "    .dataframe thead th {\n",
       "        text-align: right;\n",
       "    }\n",
       "</style>\n",
       "<table border=\"1\" class=\"dataframe\">\n",
       "  <thead>\n",
       "    <tr style=\"text-align: right;\">\n",
       "      <th></th>\n",
       "      <th>emotion</th>\n",
       "      <th>pixels</th>\n",
       "      <th>Usage</th>\n",
       "    </tr>\n",
       "  </thead>\n",
       "  <tbody>\n",
       "    <tr>\n",
       "      <th>0</th>\n",
       "      <td>0</td>\n",
       "      <td>70 80 82 72 58 58 60 63 54 58 60 48 89 115 121...</td>\n",
       "      <td>Training</td>\n",
       "    </tr>\n",
       "    <tr>\n",
       "      <th>1</th>\n",
       "      <td>0</td>\n",
       "      <td>151 150 147 155 148 133 111 140 170 174 182 15...</td>\n",
       "      <td>Training</td>\n",
       "    </tr>\n",
       "    <tr>\n",
       "      <th>2</th>\n",
       "      <td>2</td>\n",
       "      <td>231 212 156 164 174 138 161 173 182 200 106 38...</td>\n",
       "      <td>Training</td>\n",
       "    </tr>\n",
       "    <tr>\n",
       "      <th>3</th>\n",
       "      <td>4</td>\n",
       "      <td>24 32 36 30 32 23 19 20 30 41 21 22 32 34 21 1...</td>\n",
       "      <td>Training</td>\n",
       "    </tr>\n",
       "    <tr>\n",
       "      <th>4</th>\n",
       "      <td>6</td>\n",
       "      <td>4 0 0 0 0 0 0 0 0 0 0 0 3 15 23 28 48 50 58 84...</td>\n",
       "      <td>Training</td>\n",
       "    </tr>\n",
       "  </tbody>\n",
       "</table>\n",
       "</div>"
      ],
      "text/plain": [
       "   emotion                                             pixels     Usage\n",
       "0        0  70 80 82 72 58 58 60 63 54 58 60 48 89 115 121...  Training\n",
       "1        0  151 150 147 155 148 133 111 140 170 174 182 15...  Training\n",
       "2        2  231 212 156 164 174 138 161 173 182 200 106 38...  Training\n",
       "3        4  24 32 36 30 32 23 19 20 30 41 21 22 32 34 21 1...  Training\n",
       "4        6  4 0 0 0 0 0 0 0 0 0 0 0 3 15 23 28 48 50 58 84...  Training"
      ]
     },
     "execution_count": 2,
     "metadata": {},
     "output_type": "execute_result"
    }
   ],
   "source": [
    "import math\n",
    "import time\n",
    "from sklearn import model_selection\n",
    "import pandas as pd\n",
    "import numpy as np\n",
    "from sklearn import preprocessing\n",
    "from sklearn.model_selection import train_test_split\n",
    "from sklearn.neural_network import MLPClassifier\n",
    "from sklearn.preprocessing import MinMaxScaler\n",
    "\n",
    "\n",
    "df = pd.read_csv('./fer2013.csv')\n",
    "df.head()"
   ]
  },
  {
   "cell_type": "markdown",
   "id": "1c144d29",
   "metadata": {},
   "source": [
    "## Data Processing"
   ]
  },
  {
   "cell_type": "code",
   "execution_count": 3,
   "id": "bf1b84b4",
   "metadata": {},
   "outputs": [],
   "source": [
    "from matplotlib import pyplot as plt\n",
    "\n",
    "#usage is not needed, so it is dropped\n",
    "df = df.drop(columns=['Usage'])\n",
    "\n",
    "#obtain values we wish to predict as a vector\n",
    "y = df['emotion'].values\n",
    "\n",
    "pixels = df['pixels'].values\n",
    "\n",
    "x = []\n",
    "\n",
    "for i in pixels:\n",
    "    str_list = i.split()\n",
    "    x.append(np.array(list(map(int, str_list)))/255)\n",
    "\n",
    "emotions = ['Angry', 'Disgust', 'Fear', 'Happy', 'Sad', 'Surprise', 'Neutral']\n"
   ]
  },
  {
   "cell_type": "code",
   "execution_count": 4,
   "id": "aee11ae7",
   "metadata": {},
   "outputs": [],
   "source": [
    "#np.array() creates a array\n",
    "X_train, X_test, y_train, y_test = train_test_split(np.array(x), np.array(y), test_size = 0.1)\n",
    "X = np.array(x)\n",
    "y = np.array(y)"
   ]
  },
  {
   "cell_type": "code",
   "execution_count": 5,
   "id": "58c62982",
   "metadata": {},
   "outputs": [
    {
     "name": "stdout",
     "output_type": "stream",
     "text": [
      "[0 2 4 6 3 5 1]\n"
     ]
    }
   ],
   "source": [
    "print(df['emotion'].unique())"
   ]
  },
  {
   "cell_type": "markdown",
   "id": "fa4a68b2",
   "metadata": {},
   "source": [
    "## Model and training"
   ]
  },
  {
   "cell_type": "code",
   "execution_count": 6,
   "id": "1784816a",
   "metadata": {},
   "outputs": [
    {
     "name": "stdout",
     "output_type": "stream",
     "text": [
      "              precision    recall  f1-score   support\n",
      "\n",
      "           0       0.38      0.31      0.34       505\n",
      "           1       0.39      0.53      0.45        59\n",
      "           2       0.39      0.36      0.37       506\n",
      "           3       0.45      0.42      0.43       885\n",
      "           4       0.38      0.34      0.36       633\n",
      "           5       0.57      0.59      0.58       403\n",
      "           6       0.32      0.45      0.37       598\n",
      "\n",
      "    accuracy                           0.41      3589\n",
      "   macro avg       0.41      0.43      0.42      3589\n",
      "weighted avg       0.41      0.41      0.40      3589\n",
      "\n"
     ]
    }
   ],
   "source": [
    "from sklearn.neighbors import KNeighborsClassifier\n",
    "from sklearn.naive_bayes import CategoricalNB\n",
    "from sklearn.metrics import accuracy_score, confusion_matrix, roc_curve, roc_auc_score, recall_score, precision_score\n",
    "from sklearn.metrics import classification_report\n",
    "\n",
    "neighbor = KNeighborsClassifier(n_neighbors=1)\n",
    "neighbor.fit(X_train, y_train)\n",
    "y_pred_neighbor = neighbor.predict(X_test)\n",
    "print(classification_report(y_test, y_pred_neighbor))"
   ]
  },
  {
   "cell_type": "markdown",
   "id": "9c953c07",
   "metadata": {},
   "source": [
    "## Confusion matrix"
   ]
  },
  {
   "cell_type": "code",
   "execution_count": 7,
   "id": "296a33ec",
   "metadata": {},
   "outputs": [
    {
     "name": "stdout",
     "output_type": "stream",
     "text": [
      "[[156   7  49 102  67  31  93]\n",
      " [  4  31   2   6   6   3   7]\n",
      " [ 49   5 182  90  58  37  85]\n",
      " [ 71  15  70 369 108  48 204]\n",
      " [ 61   8  82 103 213  26 140]\n",
      " [ 20   2  31  39  29 236  46]\n",
      " [ 46  11  50 117  76  30 268]]\n"
     ]
    }
   ],
   "source": [
    "KNN_matrix = confusion_matrix(y_test, y_pred_neighbor, labels = [0,1,2,3,4,5,6])\n",
    "print(KNN_matrix)"
   ]
  },
  {
   "cell_type": "code",
   "execution_count": 8,
   "id": "e4285d92",
   "metadata": {},
   "outputs": [
    {
     "data": {
      "image/png": "[encoded data removed]",
      "text/plain": [
       "<Figure size 432x288 with 2 Axes>"
      ]
     },
     "metadata": {
      "needs_background": "light"
     },
     "output_type": "display_data"
    }
   ],
   "source": [
    "import seaborn as sns\n",
    "\n",
    "knn_cm = sns.heatmap(KNN_matrix, annot=True, cmap='Blues', fmt='g')\n",
    "knn_cm.set_title('KNN Confusion Matrix\\n\\n');\n",
    "knn_cm.set_xlabel('\\nPredicted Emotion')\n",
    "knn_cm.set_ylabel('Actual Emotion');\n",
    "knn_cm.xaxis.set_ticklabels(emotions, fontsize=8)\n",
    "knn_cm.yaxis.set_ticklabels(emotions, fontsize=8)\n",
    "plt.show()"
   ]
  },
  {
   "cell_type": "markdown",
   "id": "53a0071d",
   "metadata": {},
   "source": [
    "## Performance"
   ]
  },
  {
   "cell_type": "code",
   "execution_count": 9,
   "id": "5d9e1186",
   "metadata": {},
   "outputs": [
    {
     "name": "stdout",
     "output_type": "stream",
     "text": [
      "              precision    recall  f1-score   support\n",
      "\n",
      "           0       0.30      0.41      0.34       505\n",
      "           1       0.29      0.56      0.38        59\n",
      "           2       0.29      0.40      0.33       506\n",
      "           3       0.40      0.45      0.42       885\n",
      "           4       0.37      0.27      0.31       633\n",
      "           5       0.57      0.39      0.46       403\n",
      "           6       0.38      0.21      0.27       598\n",
      "\n",
      "    accuracy                           0.36      3589\n",
      "   macro avg       0.37      0.38      0.36      3589\n",
      "weighted avg       0.38      0.36      0.36      3589\n",
      "\n"
     ]
    }
   ],
   "source": [
    "neighbor = KNeighborsClassifier(n_neighbors=2)\n",
    "neighbor.fit(X_train, y_train)\n",
    "y_pred_neighbor = neighbor.predict(X_test)\n",
    "print(classification_report(y_test, y_pred_neighbor))"
   ]
  }
 ],
 "metadata": {
  "kernelspec": {
   "display_name": "Python 3 (ipykernel)",
   "language": "python",
   "name": "python3"
  },
  "language_info": {
   "codemirror_mode": {
    "name": "ipython",
    "version": 3
   },
   "file_extension": ".py",
   "mimetype": "text/x-python",
   "name": "python",
   "nbconvert_exporter": "python",
   "pygments_lexer": "ipython3",
   "version": "3.8.11"
  }
 },
 "nbformat": 4,
 "nbformat_minor": 5
}
