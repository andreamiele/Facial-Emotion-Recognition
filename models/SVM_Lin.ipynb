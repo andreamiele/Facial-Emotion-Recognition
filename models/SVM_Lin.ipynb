{
 "cells": [
  {
   "cell_type": "markdown",
   "id": "9c14ba62",
   "metadata": {},
   "source": [
    "# SVM Linear"
   ]
  },
  {
   "cell_type": "markdown",
   "id": "ebee8696",
   "metadata": {},
   "source": [
    "More information [here](https://scikit-learn.org/stable/modules/generated/sklearn.svm.LinearSVC.html)"
   ]
  },
  {
   "cell_type": "code",
   "execution_count": 1,
   "id": "ae3564f5",
   "metadata": {},
   "outputs": [],
   "source": [
    "import time\n",
    "import pandas as pd\n",
    "import numpy as np\n",
    "from sklearn.svm import SVC\n",
    "from sklearn.metrics import classification_report\n",
    "from sklearn.model_selection import train_test_split\n",
    "\n",
    "#read data\n",
    "df = pd.read_csv('./fer2013.csv')\n",
    "\n",
    "#usage is not needed, so it is droped\n",
    "df = df.drop(columns=['Usage'])\n",
    "\n",
    "#obtain values we wis to predict as a vector\n",
    "y = df['emotion'].values\n",
    "\n",
    "pixels = df['pixels'].values\n",
    "\n",
    "x = []\n",
    "\n",
    "for i in pixels:\n",
    "    str_list = i.split()\n",
    "    x.append(np.array(list(map(int, str_list)))/255)\n",
    "\n",
    "trainX, testX, trainY, testY = train_test_split(np.array(x), np.array(y), test_size = 0.3)"
   ]
  },
  {
   "cell_type": "code",
   "execution_count": 2,
   "id": "f13ff13a",
   "metadata": {},
   "outputs": [
    {
     "name": "stdout",
     "output_type": "stream",
     "text": [
      "2640.6196880340576\n"
     ]
    }
   ],
   "source": [
    "model = SVC(kernel='linear')\n",
    "startTrain = time.time()\n",
    "model.fit(trainX,trainY)\n",
    "endTrain = time.time()\n",
    "print(endTrain - startTrain)"
   ]
  },
  {
   "cell_type": "markdown",
   "id": "3f9f7aa3",
   "metadata": {},
   "source": [
    "## Performance"
   ]
  },
  {
   "cell_type": "code",
   "execution_count": 5,
   "id": "3ba04d21",
   "metadata": {},
   "outputs": [
    {
     "name": "stdout",
     "output_type": "stream",
     "text": [
      "              precision    recall  f1-score   support\n",
      "\n",
      "           0       0.23      0.23      0.23      1474\n",
      "           1       0.20      0.22      0.21       169\n",
      "           2       0.25      0.23      0.24      1545\n",
      "           3       0.45      0.54      0.49      2732\n",
      "           4       0.26      0.25      0.25      1791\n",
      "           5       0.47      0.42      0.44      1149\n",
      "           6       0.33      0.28      0.30      1907\n",
      "\n",
      "    accuracy                           0.34     10767\n",
      "   macro avg       0.31      0.31      0.31     10767\n",
      "weighted avg       0.34      0.34      0.34     10767\n",
      "\n"
     ]
    }
   ],
   "source": [
    "pred = model.predict(testX)\n",
    "print(classification_report(testY, pred))"
   ]
  },
  {
   "cell_type": "code",
   "execution_count": 8,
   "id": "450e2814",
   "metadata": {},
   "outputs": [],
   "source": [
    "import pickle\n",
    "\n",
    "# Save the model as a pickle in a file\n",
    "pickle.dump(model, open('svm_lin.pkl', 'wb'))"
   ]
  }
 ],
 "metadata": {
  "kernelspec": {
   "display_name": "Python 3",
   "language": "python",
   "name": "python3"
  },
  "language_info": {
   "codemirror_mode": {
    "name": "ipython",
    "version": 3
   },
   "file_extension": ".py",
   "mimetype": "text/x-python",
   "name": "python",
   "nbconvert_exporter": "python",
   "pygments_lexer": "ipython3",
   "version": "3.8.8"
  }
 },
 "nbformat": 4,
 "nbformat_minor": 5
}
