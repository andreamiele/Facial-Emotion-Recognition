{
 "cells": [
  {
   "cell_type": "markdown",
   "id": "edcae7e5",
   "metadata": {},
   "source": [
    "# SVM Radial Basis Function"
   ]
  },
  {
   "cell_type": "markdown",
   "id": "ebee8696",
   "metadata": {},
   "source": [
    "More information [here](https://scikit-learn.org/stable/auto_examples/svm/plot_rbf_parameters.html)"
   ]
  },
  {
   "cell_type": "code",
   "execution_count": 8,
   "id": "c0ee3e36",
   "metadata": {},
   "outputs": [],
   "source": [
    "import time\n",
    "import pandas as pd\n",
    "import numpy as np\n",
    "from sklearn.svm import SVC\n",
    "from sklearn.metrics import classification_report\n",
    "from sklearn.model_selection import train_test_split\n",
    "\n",
    "#Read data\n",
    "df = pd.read_csv('./fer2013.csv')\n",
    "\n",
    "#Drop \"Usage\" as it's useless\n",
    "df = df.drop(columns=['Usage'])\n",
    "\n",
    "#Obtain values we want to predict as a vector\n",
    "y = df['emotion'].values\n",
    "\n",
    "pixels = df['pixels'].values\n",
    "\n",
    "x = []\n",
    "\n",
    "for i in pixels:\n",
    "    str_list = i.split()\n",
    "    x.append(np.array(list(map(int, str_list)))/255)\n",
    "\n",
    "trainX, testX, trainY, testY = train_test_split(np.array(x), np.array(y), test_size = 0.1)"
   ]
  },
  {
   "cell_type": "markdown",
   "id": "3f9f7aa3",
   "metadata": {},
   "source": [
    "## Performance"
   ]
  },
  {
   "cell_type": "code",
   "execution_count": 7,
   "id": "8121ce61",
   "metadata": {},
   "outputs": [
    {
     "name": "stdout",
     "output_type": "stream",
     "text": [
      "2333.6039428710938\n",
      "              precision    recall  f1-score   support\n",
      "\n",
      "           0       0.44      0.23      0.30       490\n",
      "           1       0.88      0.11      0.19        64\n",
      "           2       0.41      0.21      0.28       516\n",
      "           3       0.50      0.76      0.60       895\n",
      "           4       0.33      0.42      0.37       611\n",
      "           5       0.58      0.50      0.54       365\n",
      "           6       0.44      0.42      0.43       648\n",
      "\n",
      "    accuracy                           0.45      3589\n",
      "   macro avg       0.51      0.38      0.39      3589\n",
      "weighted avg       0.45      0.45      0.43      3589\n",
      "\n"
     ]
    }
   ],
   "source": [
    "model = SVC(kernel='rbf')\n",
    "startTrain = time.time()\n",
    "model.fit(trainX,trainY)\n",
    "endTrain = time.time()\n",
    "print(endTrain - startTrain)\n",
    "\n",
    "pred = model.predict(testX)\n",
    "print(classification_report(testY, pred))"
   ]
  },
  {
   "cell_type": "code",
   "execution_count": 9,
   "id": "431a555d",
   "metadata": {},
   "outputs": [],
   "source": [
    "import pickle\n",
    "\n",
    "# Save the model as a pickle in a file\n",
    "pickle.dump(model, open('svm_rbf2.pkl', 'wb'))"
   ]
  },
  {
   "cell_type": "code",
   "execution_count": 5,
   "id": "e687608c",
   "metadata": {},
   "outputs": [
    {
     "name": "stdout",
     "output_type": "stream",
     "text": [
      "25120\n"
     ]
    }
   ],
   "source": [
    "print(len(trainX))"
   ]
  }
 ],
 "metadata": {
  "kernelspec": {
   "display_name": "Python 3",
   "language": "python",
   "name": "python3"
  },
  "language_info": {
   "codemirror_mode": {
    "name": "ipython",
    "version": 3
   },
   "file_extension": ".py",
   "mimetype": "text/x-python",
   "name": "python",
   "nbconvert_exporter": "python",
   "pygments_lexer": "ipython3",
   "version": "3.8.8"
  }
 },
 "nbformat": 4,
 "nbformat_minor": 5
}
